{
 "cells": [
  {
   "cell_type": "markdown",
   "metadata": {},
   "source": [
    "# 2016 US Bike Share Activity Snapshot\n",
    "\n",
    "## Table of Contents\n",
    "- [Introduction](#intro)\n",
    "- [Posing Questions](#pose_questions)\n",
    "- [Data Collection and Wrangling](#wrangling)\n",
    "  - [Condensing the Trip Data](#condensing)\n",
    "- [Exploratory Data Analysis](#eda)\n",
    "  - [Statistics](#statistics)\n",
    "  - [Visualizations](#visualizations)\n",
    "- [Performing Your Own Analysis](#eda_continued)\n",
    "- [Conclusions](#conclusions)\n",
    "\n",
    "<a id='intro'></a>\n",
    "## Introduction\n",
    "\n",
    "Over the past decade, bicycle-sharing systems have been growing in number and popularity in cities across the world. Bicycle-sharing systems allow users to rent bicycles for short trips, typically 30 minutes or less. Thanks to the rise in information technologies, it is easy for a user of the system to access a dock within the system to unlock or return bicycles. These technologies also provide a wealth of data that can be used to explore how these bike-sharing systems are used.\n",
    "\n",
    "In this project, you will perform an exploratory analysis on data provided by [Motivate](https://www.motivateco.com/), a bike-share system provider for many major cities in the United States. You will compare the system usage between three large cities: New York City, Chicago, and Washington, DC. You will also see if there are any differences within each system for those users that are registered, regular users and those users that are short-term, casual users."
   ]
  },
  {
   "cell_type": "markdown",
   "metadata": {},
   "source": [
    "<a id='pose_questions'></a>\n",
    "## Posing Questions\n",
    "\n",
    "Before looking at the bike sharing data, you should start by asking questions you might want to understand about the bike share data. Consider, for example, if you were working for Motivate. What kinds of information would you want to know about in order to make smarter business decisions? If you were a user of the bike-share service, what factors might influence how you would want to use the service?\n",
    "\n",
    "**Question 1**: Write at least two questions related to bike sharing that you think could be answered by data.\n",
    "\n",
    "**Answer**: Bike sharing data could potentially be used in many GIS and non-GIS related fields. Depending upon the richness of the data following questions can be answered.\n",
    "\n",
    "- What time of the weekday is the most usage? Is it during office rush hours or liesure bike ride over weekends?\n",
    "- What kind of distances are covered? Straight or with more twists and turns?\n",
    "- Which neighbourhoods have the highest amount of users and what are the characteristics of users in terms of age, education, occupation etc.?\n",
    "- How do the routes taken by users compare to public transport (un)availability and/or status?\n",
    "- Live data about routes and changes in the route given circumstances can be useful to train routing algorithms."
   ]
  },
  {
   "cell_type": "markdown",
   "metadata": {},
   "source": [
    "<a id='wrangling'></a>\n",
    "## Data Collection and Wrangling\n",
    "\n",
    "Now it's time to collect and explore our data. In this project, we will focus on the record of individual trips taken in 2016 from our selected cities: New York City, Chicago, and Washington, DC. Each of these cities has a page where we can freely download the trip data.:\n",
    "\n",
    "- New York City (Citi Bike): [Link](https://www.citibikenyc.com/system-data)\n",
    "- Chicago (Divvy): [Link](https://www.divvybikes.com/system-data)\n",
    "- Washington, DC (Capital Bikeshare): [Link](https://www.capitalbikeshare.com/system-data)\n",
    "\n",
    "If you visit these pages, you will notice that each city has a different way of delivering its data. Chicago updates with new data twice a year, Washington DC is quarterly, and New York City is monthly. **However, you do not need to download the data yourself.** The data has already been collected for you in the `/data/` folder of the project files. While the original data for 2016 is spread among multiple files for each city, the files in the `/data/` folder collect all of the trip data for the year into one file per city. Some data wrangling of inconsistencies in timestamp format within each city has already been performed for you. In addition, a random 2% sample of the original data is taken to make the exploration more manageable. \n",
    "\n",
    "**Question 2**: However, there is still a lot of data for us to investigate, so it's a good idea to start off by looking at one entry from each of the cities we're going to analyze. Run the first code cell below to load some packages and functions that you'll be using in your analysis. Then, complete the second code cell to print out the first trip recorded from each of the cities (the second line of each data file)."
   ]
  },
  {
   "cell_type": "code",
   "execution_count": 1,
   "metadata": {
    "collapsed": true
   },
   "outputs": [],
   "source": [
    "## import all necessary packages and functions.\n",
    "import csv # read and write csv files\n",
    "from datetime import datetime # operations to parse dates\n",
    "from pprint import pprint # use to print data structures like dictionaries in\n",
    "                          # a nicer way than the base print function."
   ]
  },
  {
   "cell_type": "code",
   "execution_count": 2,
   "metadata": {},
   "outputs": [
    {
     "name": "stdout",
     "output_type": "stream",
     "text": [
      "\n",
      "City: NYC\n",
      "OrderedDict([('tripduration', '839'),\n",
      "             ('starttime', '1/1/2016 00:09:55'),\n",
      "             ('stoptime', '1/1/2016 00:23:54'),\n",
      "             ('start station id', '532'),\n",
      "             ('start station name', 'S 5 Pl & S 4 St'),\n",
      "             ('start station latitude', '40.710451'),\n",
      "             ('start station longitude', '-73.960876'),\n",
      "             ('end station id', '401'),\n",
      "             ('end station name', 'Allen St & Rivington St'),\n",
      "             ('end station latitude', '40.72019576'),\n",
      "             ('end station longitude', '-73.98997825'),\n",
      "             ('bikeid', '17109'),\n",
      "             ('usertype', 'Customer'),\n",
      "             ('birth year', ''),\n",
      "             ('gender', '0')])\n",
      "\n",
      "City: Chicago\n",
      "OrderedDict([('trip_id', '9080545'),\n",
      "             ('starttime', '3/31/2016 23:30'),\n",
      "             ('stoptime', '3/31/2016 23:46'),\n",
      "             ('bikeid', '2295'),\n",
      "             ('tripduration', '926'),\n",
      "             ('from_station_id', '156'),\n",
      "             ('from_station_name', 'Clark St & Wellington Ave'),\n",
      "             ('to_station_id', '166'),\n",
      "             ('to_station_name', 'Ashland Ave & Wrightwood Ave'),\n",
      "             ('usertype', 'Subscriber'),\n",
      "             ('gender', 'Male'),\n",
      "             ('birthyear', '1990')])\n",
      "\n",
      "City: Washington\n",
      "OrderedDict([('Duration (ms)', '427387'),\n",
      "             ('Start date', '3/31/2016 22:57'),\n",
      "             ('End date', '3/31/2016 23:04'),\n",
      "             ('Start station number', '31602'),\n",
      "             ('Start station', 'Park Rd & Holmead Pl NW'),\n",
      "             ('End station number', '31207'),\n",
      "             ('End station', 'Georgia Ave and Fairmont St NW'),\n",
      "             ('Bike number', 'W20842'),\n",
      "             ('Member Type', 'Registered')])\n"
     ]
    }
   ],
   "source": [
    "def print_first_point(filename):\n",
    "    \"\"\"\n",
    "    This function prints and returns the first data point (second row) from\n",
    "    a csv file that includes a header row.\n",
    "    \"\"\"\n",
    "\n",
    "    # print city name for reference\n",
    "    city = filename.split('-')[0].split('/')[-1]\n",
    "    print('\\nCity: {}'.format(city))\n",
    "\n",
    "    with open(filename, 'r') as f_in:\n",
    "        trip_reader = csv.DictReader(f_in)\n",
    "        first_trip = next(trip_reader) # accessing the first trip with next method\n",
    "        pprint(first_trip) # pretty printing the dict\n",
    "\n",
    "    # output city name and first trip for later testing\n",
    "    return (city, first_trip)\n",
    "\n",
    "# list of files for each city\n",
    "data_files = ['./data/NYC-CitiBike-2016.csv',\n",
    "              './data/Chicago-Divvy-2016.csv',\n",
    "              './data/Washington-CapitalBikeshare-2016.csv']\n",
    "\n",
    "# print the first trip from each file, store in dictionary\n",
    "example_trips = {}\n",
    "for data_file in data_files:\n",
    "    city, first_trip = print_first_point(data_file)\n",
    "    example_trips[city] = first_trip"
   ]
  },
  {
   "cell_type": "markdown",
   "metadata": {},
   "source": [
    "If everything has been filled out correctly, you should see below the printout of each city name (which has been parsed from the data file name) that the first trip has been parsed in the form of a dictionary. When you set up a `DictReader` object, the first row of the data file is normally interpreted as column names. Every other row in the data file will use those column names as keys, as a dictionary is generated for each row.\n",
    "\n",
    "This will be useful since we can refer to quantities by an easily-understandable label instead of just a numeric index. For example, if we have a trip stored in the variable `row`, then we would rather get the trip duration from `row['duration']` instead of `row[0]`.\n",
    "\n",
    "<a id='condensing'></a>\n",
    "### Condensing the Trip Data\n",
    "\n",
    "It should also be observable from the above printout that each city provides different information. Even where the information is the same, the column names and formats are sometimes different. To make things as simple as possible when we get to the actual exploration, we should trim and clean the data. Cleaning the data makes sure that the data formats across the cities are consistent, while trimming focuses only on the parts of the data we are most interested in to make the exploration easier to work with.\n",
    "\n",
    "You will generate new data files with five values of interest for each trip: trip duration, starting month, starting hour, day of the week, and user type. Each of these may require additional wrangling depending on the city:\n",
    "\n",
    "- **Duration**: This has been given to us in seconds (New York, Chicago) or milliseconds (Washington). A more natural unit of analysis will be if all the trip durations are given in terms of minutes.\n",
    "- **Month**, **Hour**, **Day of Week**: Ridership volume is likely to change based on the season, time of day, and whether it is a weekday or weekend. Use the start time of the trip to obtain these values. The New York City data includes the seconds in their timestamps, while Washington and Chicago do not. The [`datetime`](https://docs.python.org/3/library/datetime.html) package will be very useful here to make the needed conversions.\n",
    "- **User Type**: It is possible that users who are subscribed to a bike-share system will have different patterns of use compared to users who only have temporary passes. Washington divides its users into two types: 'Registered' for users with annual, monthly, and other longer-term subscriptions, and 'Casual', for users with 24-hour, 3-day, and other short-term passes. The New York and Chicago data uses 'Subscriber' and 'Customer' for these groups, respectively. For consistency, you will convert the Washington labels to match the other two.\n",
    "\n",
    "\n",
    "**Question 3a**: Complete the helper functions in the code cells below to address each of the cleaning tasks described above."
   ]
  },
  {
   "cell_type": "code",
   "execution_count": 3,
   "metadata": {
    "collapsed": true
   },
   "outputs": [],
   "source": [
    "def duration_in_mins(datum, city):\n",
    "    \"\"\"\n",
    "    Takes as input a dictionary containing info about a single trip (datum) and\n",
    "    its origin city (city) and returns the trip duration in units of minutes.\n",
    "    \n",
    "    Remember that Washington is in terms of milliseconds while Chicago and NYC\n",
    "    are in terms of seconds. \n",
    "    \"\"\"\n",
    "    \n",
    "    duration = 0\n",
    "    if city == 'Washington':\n",
    "        duration = float(datum['Duration (ms)'])\n",
    "        return duration / 60000  # ms to minutes\n",
    "    else:\n",
    "        duration = float(datum['tripduration'])  # str to float\n",
    "        return duration / 60  # seconds to minutes\n",
    "\n",
    "# Some tests to check that your code works. There should be no output if all of\n",
    "# the assertions pass. The `example_trips` dictionary was obtained from when\n",
    "# you printed the first trip from each of the original data files.\n",
    "tests = {'NYC': 13.9833,\n",
    "         'Chicago': 15.4333,\n",
    "         'Washington': 7.1231}\n",
    "\n",
    "for city in tests:\n",
    "    assert abs(duration_in_mins(example_trips[city], city) - tests[city]) < .001"
   ]
  },
  {
   "cell_type": "code",
   "execution_count": 4,
   "metadata": {
    "collapsed": true
   },
   "outputs": [],
   "source": [
    "def time_of_trip(datum, city):\n",
    "    \"\"\"\n",
    "    Takes as input a dictionary containing info about a single trip (datum) and\n",
    "    its origin city (city) and returns the month, hour, and day of the week in\n",
    "    which the trip was made.\n",
    "    \n",
    "    Remember that NYC includes seconds, while Washington and Chicago do not.\n",
    "    \n",
    "    HINT: You should use the datetime module to parse the original date\n",
    "    strings into a format that is useful for extracting the desired information.\n",
    "    see https://docs.python.org/3/library/datetime.html#strftime-and-strptime-behavior\n",
    "    \"\"\"\n",
    "    if city == 'Washington':\n",
    "        # convert the 'Start date' for washington to datetime_object\n",
    "        dt_object = datetime.strptime(datum['Start date'], \"%m/%d/%Y %H:%M\")\n",
    "        month = int(dt_object.strftime('%m')) # extract month\n",
    "        hour = int(dt_object.strftime('%H')) # extract hour\n",
    "        day_of_week = dt_object.strftime('%A') # extract day of the week\n",
    "\n",
    "        return (month, hour, day_of_week)\n",
    "\n",
    "    elif city == 'NYC':\n",
    "        # convert the starttime for NYC to datetime_object taking the seconds into account\n",
    "        dt_object = datetime.strptime(datum['starttime'], \"%m/%d/%Y %H:%M:%S\")\n",
    "        month = int(dt_object.strftime('%m'))  # extract month\n",
    "        hour = int(dt_object.strftime('%H'))  # extract hour\n",
    "        day_of_week = dt_object.strftime('%A')  # extract day of the week\n",
    "\n",
    "        return (month, hour, day_of_week)\n",
    "\n",
    "    else:\n",
    "        dt_object = datetime.strptime(datum['starttime'], \"%m/%d/%Y %H:%M\")\n",
    "        month = int(dt_object.strftime('%m'))  # extract month\n",
    "        hour = int(dt_object.strftime('%H'))  # extract hour\n",
    "        day_of_week = dt_object.strftime('%A')  # extract day of the week\n",
    "\n",
    "        return (month, hour, day_of_week)\n",
    "\n",
    "\n",
    "# Some tests to check that your code works. There should be no output if all of\n",
    "# the assertions pass. The `example_trips` dictionary was obtained from when\n",
    "# you printed the first trip from each of the original data files.\n",
    "tests = {'NYC': (1, 0, 'Friday'),\n",
    "         'Chicago': (3, 23, 'Thursday'),\n",
    "         'Washington': (3, 22, 'Thursday')}\n",
    "\n",
    "for city in tests:\n",
    "    assert time_of_trip(example_trips[city], city) == tests[city]"
   ]
  },
  {
   "cell_type": "code",
   "execution_count": 5,
   "metadata": {
    "collapsed": true
   },
   "outputs": [],
   "source": [
    "def type_of_user(datum, city):\n",
    "    \"\"\"\n",
    "    Takes as input a dictionary containing info about a single trip (datum) and\n",
    "    its origin city (city) and returns the type of system user that made the\n",
    "    trip.\n",
    "    \n",
    "    Remember that Washington has different category names compared to Chicago\n",
    "    and NYC. \n",
    "    \"\"\"\n",
    "    \n",
    "    if city == 'Washington':\n",
    "        # accounting for different naming convention for Washington\n",
    "        user_type = datum['Member Type']\n",
    "         # standardizing the naming according to other cities\n",
    "        if user_type == 'Registered':\n",
    "            user_type = 'Subscriber'\n",
    "        else:\n",
    "            user_type = 'Customer'\n",
    "        return user_type\n",
    "    else:\n",
    "        user_type = datum['usertype']\n",
    "        return user_type\n",
    "    \n",
    "# Some tests to check that your code works. There should be no output if all of\n",
    "# the assertions pass. The `example_trips` dictionary was obtained from when\n",
    "# you printed the first trip from each of the original data files.\n",
    "tests = {'NYC': 'Customer',\n",
    "         'Chicago': 'Subscriber',\n",
    "         'Washington': 'Subscriber'}\n",
    "\n",
    "for city in tests:\n",
    "    assert type_of_user(example_trips[city], city) == tests[city]"
   ]
  },
  {
   "cell_type": "markdown",
   "metadata": {},
   "source": [
    "**Question 3b**: Now, use the helper functions you wrote above to create a condensed data file for each city consisting only of the data fields indicated above. In the `/examples/` folder, you will see an example datafile from the [Bay Area Bike Share](http://www.bayareabikeshare.com/open-data) before and after conversion. Make sure that your output is formatted to be consistent with the example file."
   ]
  },
  {
   "cell_type": "code",
   "execution_count": 6,
   "metadata": {
    "collapsed": true
   },
   "outputs": [],
   "source": [
    "def condense_data(in_file, out_file, city):\n",
    "    \"\"\"\n",
    "    This function takes full data from the specified input file\n",
    "    and writes the condensed data to a specified output file. The city\n",
    "    argument determines how the input file will be parsed.\n",
    "    \"\"\"\n",
    "\n",
    "    with open(out_file, 'w', newline=\"\\n\") as f_out, open(in_file, 'r') as f_in:\n",
    "        # set up csv DictWriter object - writer requires column names for the\n",
    "        # first row as the \"fieldnames\" argument\n",
    "        out_colnames = ['duration', 'month', 'hour', 'day_of_week', 'user_type']\n",
    "        trip_writer = csv.DictWriter(f_out, fieldnames=out_colnames)\n",
    "        trip_writer.writeheader()\n",
    "\n",
    "        # set up csv DictReader object \n",
    "        trip_reader = csv.DictReader(f_in)\n",
    "\n",
    "\n",
    "        # collect data from and process each row\n",
    "        for row in trip_reader:\n",
    "            # set up a dictionary to hold the values for the cleaned and trimmed\n",
    "            # data point\n",
    "            new_point = {}\n",
    "\n",
    "            # extracting info from helper functions and writing them to outputfile\n",
    "            new_point['duration'] = duration_in_mins(row, city)\n",
    "            # following three lines are necessary because time_of_trip function returns a tuple\n",
    "            new_point['month'] = time_of_trip(row, city)[0]\n",
    "            new_point['hour'] = time_of_trip(row, city)[1]\n",
    "            new_point['day_of_week'] = time_of_trip(row, city)[2]\n",
    "            new_point['user_type'] = type_of_user(row, city)\n",
    "\n",
    "            # write the processed information to the output file\n",
    "            trip_writer.writerow(new_point)"
   ]
  },
  {
   "cell_type": "code",
   "execution_count": 7,
   "metadata": {},
   "outputs": [
    {
     "name": "stdout",
     "output_type": "stream",
     "text": [
      "\n",
      "City: Washington\n",
      "OrderedDict([('duration', '7.123116666666666'),\n",
      "             ('month', '3'),\n",
      "             ('hour', '22'),\n",
      "             ('day_of_week', 'Thursday'),\n",
      "             ('user_type', 'Subscriber')])\n",
      "\n",
      "City: Chicago\n",
      "OrderedDict([('duration', '15.433333333333334'),\n",
      "             ('month', '3'),\n",
      "             ('hour', '23'),\n",
      "             ('day_of_week', 'Thursday'),\n",
      "             ('user_type', 'Subscriber')])\n",
      "\n",
      "City: NYC\n",
      "OrderedDict([('duration', '13.983333333333333'),\n",
      "             ('month', '1'),\n",
      "             ('hour', '0'),\n",
      "             ('day_of_week', 'Friday'),\n",
      "             ('user_type', 'Customer')])\n"
     ]
    }
   ],
   "source": [
    "# Run this cell to check your work\n",
    "city_info = {'Washington': {'in_file': './data/Washington-CapitalBikeshare-2016.csv',\n",
    "                            'out_file': './data/Washington-2016-Summary.csv'},\n",
    "             'Chicago': {'in_file': './data/Chicago-Divvy-2016.csv',\n",
    "                         'out_file': './data/Chicago-2016-Summary.csv'},\n",
    "             'NYC': {'in_file': './data/NYC-CitiBike-2016.csv',\n",
    "                     'out_file': './data/NYC-2016-Summary.csv'}}\n",
    "\n",
    "for city, filenames in city_info.items():\n",
    "    condense_data(filenames['in_file'], filenames['out_file'], city)\n",
    "    print_first_point(filenames['out_file'])"
   ]
  },
  {
   "cell_type": "markdown",
   "metadata": {},
   "source": [
    "<a id='eda'></a>\n",
    "## Exploratory Data Analysis\n",
    "\n",
    "Now that you have the data collected and wrangled, you're ready to start exploring the data. In this section you will write some code to compute descriptive statistics from the data. You will also be introduced to the `matplotlib` library to create some basic histograms of the data.\n",
    "\n",
    "<a id='statistics'></a>\n",
    "### Statistics\n",
    "\n",
    "First, let's compute some basic counts. The first cell below contains a function that uses the csv module to iterate through a provided data file, returning the number of trips made by subscribers and customers. The second cell runs this function on the example Bay Area data in the `/examples/` folder. Modify the cells to answer the question below.\n",
    "\n",
    "**Question 4a**: Which city has the highest number of trips? Which city has the highest proportion of trips made by subscribers? Which city has the highest proportion of trips made by short-term customers?\n",
    "\n",
    "**Answer**: \n",
    "- New York City has the highest number of **total trips**: 276798\n",
    "- Similarly, New York City aces in the proportion of trips made by **subscribers: 88.83%** of the trips were made by subscribers!\n",
    "- However, Chicago saw highest number of ad-hoc **customer rides** in proportion: **23.77%**"
   ]
  },
  {
   "cell_type": "code",
   "execution_count": 8,
   "metadata": {
    "collapsed": true
   },
   "outputs": [],
   "source": [
    "def number_of_trips(filename):\n",
    "    \"\"\"\n",
    "    This function reads in a file with trip data and reports the number of\n",
    "    trips made by subscribers, customers, and total overall.\n",
    "    \"\"\"\n",
    "    with open(filename, 'r') as f_in:\n",
    "        # set up csv reader object\n",
    "        reader = csv.DictReader(f_in)\n",
    "        \n",
    "        # initialize count variables\n",
    "        n_subscribers = 0\n",
    "        n_customers = 0\n",
    "        \n",
    "        # tally up ride types\n",
    "        for row in reader:\n",
    "            if row['user_type'] == 'Subscriber':\n",
    "                n_subscribers += 1\n",
    "            else:\n",
    "                n_customers += 1\n",
    "        \n",
    "        # compute total number of rides\n",
    "        n_total = n_subscribers + n_customers\n",
    "        \n",
    "        # return tallies as a tuple\n",
    "        return(n_subscribers, n_customers, n_total)"
   ]
  },
  {
   "cell_type": "code",
   "execution_count": 9,
   "metadata": {},
   "outputs": [
    {
     "name": "stdout",
     "output_type": "stream",
     "text": [
      "(245896, 30902, 276798)\n"
     ]
    }
   ],
   "source": [
    "## Modify this and the previous cell to answer Question 4a. Remember to run ##\n",
    "## the function on the cleaned data files you created from Question 3.      ##\n",
    "\n",
    "data_file = './data/NYC-2016-Summary.csv'\n",
    "print(number_of_trips(data_file))"
   ]
  },
  {
   "cell_type": "markdown",
   "metadata": {},
   "source": [
    "**Question 4b**: Bike-share systems are designed for riders to take short trips. Most of the time, users are allowed to take trips of 30 minutes or less with no additional charges, with overage charges made for trips of longer than that duration. What is the average trip length for each city? What proportion of rides made in each city are longer than 30 minutes?\n",
    "\n",
    "**Answer**: function below **trip_length_stat** computes and gives following statistics!\n",
    "- average trip length for NYC is: 15.81 minutes\n",
    "- proportion of rides longer than 30 minutes in NYC is: 7.30%\n",
    "- average trip length for Chicago is: 16.56 minutes\n",
    "- proportion of rides longer than 30 minutes in Chicago is: 8.33%\n",
    "- average trip length for Washington is: 18.93 minutes\n",
    "- proportion of rides longer than 30 minutes in Washington is: 10.84%"
   ]
  },
  {
   "cell_type": "code",
   "execution_count": 10,
   "metadata": {
    "scrolled": true
   },
   "outputs": [
    {
     "name": "stdout",
     "output_type": "stream",
     "text": [
      "average trip length for NYC is: 15.81 minutes\n",
      "proportion of rides longer than 30 minutes in NYC is: 7.30%\n",
      "average trip length for Chicago is: 16.56 minutes\n",
      "proportion of rides longer than 30 minutes in Chicago is: 8.33%\n",
      "average trip length for Washington is: 18.93 minutes\n",
      "proportion of rides longer than 30 minutes in Washington is: 10.84%\n"
     ]
    }
   ],
   "source": [
    "def trip_length_stat(infile_csv):\n",
    "    \"\"\"\n",
    "    Takes in a csv file and gives out average ride duration and \n",
    "    proportion of rides greater than 30 mins in percentage\n",
    "    \n",
    "    input param: csv file\n",
    "    output param: tuple\n",
    "    \"\"\"\n",
    "    durations = []\n",
    "    \n",
    "    # read from input file\n",
    "    with open(infile_csv, 'r') as f_in:\n",
    "        filereader = csv.DictReader(f_in)\n",
    "        for row in filereader:\n",
    "            durations.append(float(row['duration']))\n",
    "    \n",
    "    # compute total rides and average ride duration\n",
    "    total_rides = len(durations)\n",
    "    avg_ride_duration = sum(durations) / total_rides\n",
    "    \n",
    "    # compute rides greater than 30 mins followed by proportion\n",
    "    n_gt_30_mins = len([time for time in durations if time > 30])\n",
    "    proportion_gt_30_mins = 100*n_gt_30_mins/total_rides\n",
    "\n",
    "    return avg_ride_duration, proportion_gt_30_mins\n",
    "\n",
    "\n",
    "summary_files = ['./data/NYC-2016-Summary.csv',\n",
    "                 './data/Chicago-2016-Summary.csv',\n",
    "                 './data/Washington-2016-Summary.csv']\n",
    "\n",
    "for file in summary_files:\n",
    "    avg_duration = trip_length_stat(file)[0]\n",
    "    gt_30_mins = trip_length_stat(file)[1]\n",
    "    city = file.split('-')[0].split('/')[-1]\n",
    "    print('average trip length for {} is: {:.2f} minutes'.format(city,avg_duration))\n",
    "    print('proportion of rides longer than 30 minutes in {} is: {:.2f}%'.format(city, gt_30_mins))"
   ]
  },
  {
   "cell_type": "markdown",
   "metadata": {},
   "source": [
    "**Question 4c**: Dig deeper into the question of trip duration based on ridership. Choose one city. Within that city, which type of user takes longer rides on average: Subscribers or Customers?\n",
    "\n",
    "**Answer**: Below function trip_length_stat1 computes the trip duration upto 75 mins based on ridership. The output of the function is:\n",
    "- Average Subscriber trip in NYC is 12.36 minutes and the average Customer trip duration is 22.29 minutes.\n",
    "- Customers take longer than Subscribers. However, still below 30 mins!"
   ]
  },
  {
   "cell_type": "code",
   "execution_count": 11,
   "metadata": {},
   "outputs": [
    {
     "name": "stdout",
     "output_type": "stream",
     "text": [
      "Overall average of all user types is: 13.43. While average Subscriber trip in NYC is 12.36 minutes and the average Customer trip duration is 22.29 minutes.\n"
     ]
    }
   ],
   "source": [
    "# (sort of) extension/modification of previous function\n",
    "def trip_length_stat1(infile_csv):\n",
    "    \"\"\"\n",
    "    Takes in a csv file and gives out average ride duration and \n",
    "    proportion of rides greater than 30 mins in percentage\n",
    "    \n",
    "    input param: csv file\n",
    "    output param: printed statistics\n",
    "    \"\"\"\n",
    "    # initialize two empty lists. one for Subscribers and the other for Customers\n",
    "    durations_upto_75 = []\n",
    "    durations_upto_75_sub = []\n",
    "    durations_upto_75_cust = []\n",
    "    \n",
    "    # Read file and populate two lists for trips greater than 30 minutes\n",
    "    with open(infile_csv, 'r') as f_in:\n",
    "        filereader = csv.DictReader(f_in)\n",
    "        for row in filereader:\n",
    "            if float(row['duration']) > 2 and float(row['duration']) < 75:\n",
    "                durations_upto_75.append(float(row['duration']))\n",
    "                if row['user_type'] == 'Subscriber':\n",
    "                    durations_upto_75_sub.append(float(row['duration']))\n",
    "                else:\n",
    "                    durations_upto_75_cust.append(float(row['duration']))\n",
    "\n",
    "    city = infile_csv.split('-')[0].split('/')[-1]\n",
    "    total_avg = sum(durations_upto_75) / len(durations_upto_75)\n",
    "    subscriber_avg = sum(durations_upto_75_sub) / len(durations_upto_75_sub)\n",
    "    customer_avg = sum(durations_upto_75_cust) / len(durations_upto_75_cust)\n",
    "    \n",
    "    return city, total_avg, subscriber_avg, customer_avg\n",
    "\n",
    "city, avg_total, avg_subscriber, avg_customer = trip_length_stat1('./data/NYC-2016-Summary.csv')\n",
    "print(\"Overall average of all user types is: {:.2f}. While average Subscriber trip in {} is {:.2f} minutes and the average \" \\\n",
    "           \"Customer trip duration is {:.2f} minutes.\".format(avg_total, city, avg_subscriber, avg_customer))"
   ]
  },
  {
   "cell_type": "markdown",
   "metadata": {},
   "source": [
    "<a id='visualizations'></a>\n",
    "### Visualizations\n",
    "\n",
    "The last set of values that you computed should have pulled up an interesting result. While the mean trip time for Subscribers is well under 30 minutes, the mean trip time for Customers is actually _above_ 30 minutes! It will be interesting for us to look at how the trip times are distributed. In order to do this, a new library will be introduced here, `matplotlib`. Run the cell below to load the library and to generate an example plot."
   ]
  },
  {
   "cell_type": "code",
   "execution_count": 12,
   "metadata": {},
   "outputs": [
    {
     "data": {
      "image/png": "[encoded data removed]",
      "text/plain": [
       "<matplotlib.figure.Figure at 0x170909f00f0>"
      ]
     },
     "metadata": {},
     "output_type": "display_data"
    }
   ],
   "source": [
    "# load library\n",
    "import matplotlib.pyplot as plt\n",
    "\n",
    "# inline with the notebook.\n",
    "%matplotlib inline \n",
    "\n",
    "# example histogram, data taken from bay area sample\n",
    "data = [ 7.65,  8.92,  7.42,  5.50, 16.17,  4.20,  8.98,  9.62, 11.48, 14.33,\n",
    "        19.02, 21.53,  3.90,  7.97,  2.62,  2.67,  3.08, 14.40, 12.90,  7.83,\n",
    "        25.12,  8.30,  4.93, 12.43, 10.60,  6.17, 10.88,  4.78, 15.15,  3.53,\n",
    "         9.43, 13.32, 11.72,  9.85,  5.22, 15.10,  3.95,  3.17,  8.78,  1.88,\n",
    "         4.55, 12.68, 12.38,  9.78,  7.63,  6.45, 17.38, 11.90, 11.52,  8.63,]\n",
    "plt.hist(data)\n",
    "plt.title('Distribution of Trip Durations')\n",
    "plt.xlabel('Duration (min)')\n",
    "plt.show()"
   ]
  },
  {
   "cell_type": "markdown",
   "metadata": {},
   "source": [
    "In the above cell, we collected fifty trip times in a list, and passed this list as the first argument to the `.hist()` function. This function performs the computations and creates plotting objects for generating a histogram, but the plot is actually not rendered until the `.show()` function is executed. The `.title()` and `.xlabel()` functions provide some labeling for plot context.\n",
    "\n",
    "You will now use these functions to create a histogram of the trip times for the city you selected in question 4c. Don't separate the Subscribers and Customers for now: just collect all of the trip times and plot them."
   ]
  },
  {
   "cell_type": "code",
   "execution_count": 13,
   "metadata": {},
   "outputs": [
    {
     "data": {
      "image/png": "[encoded data removed]",
      "text/plain": [
       "<matplotlib.figure.Figure at 0x170909f0748>"
      ]
     },
     "metadata": {},
     "output_type": "display_data"
    }
   ],
   "source": [
    "## collect all of the trip times as a list ##\n",
    "## use pyplot functions to generate a histogram of trip times.     ##\n",
    "\n",
    "durations = []\n",
    "infile_csv = './data/NYC-2016-Summary.csv'\n",
    "\n",
    "# read from input file\n",
    "with open(infile_csv, 'r') as f_in:\n",
    "    filereader = csv.DictReader(f_in)\n",
    "    for row in filereader:\n",
    "        durations.append(float(row['duration']))\n",
    "\n",
    "plt.hist(durations)\n",
    "plt.title('Distribution of Trip Durations in NYC')\n",
    "plt.xlabel('Duration (min)')\n",
    "plt.show()"
   ]
  },
  {
   "cell_type": "markdown",
   "metadata": {},
   "source": [
    "If you followed the use of the `.hist()` and `.show()` functions exactly like in the example, you're probably looking at a plot that's completely unexpected. The plot consists of one extremely tall bar on the left, maybe a very short second bar, and a whole lot of empty space in the center and right. Take a look at the duration values on the x-axis. This suggests that there are some highly infrequent outliers in the data. Instead of reprocessing the data, you will use additional parameters with the `.hist()` function to limit the range of data that is plotted. Documentation for the function can be found [[here]](https://matplotlib.org/devdocs/api/_as_gen/matplotlib.pyplot.hist.html#matplotlib.pyplot.hist).\n",
    "\n",
    "**Question 5**: Use the parameters of the `.hist()` function to plot the distribution of trip times for the Subscribers in your selected city. Do the same thing for only the Customers. Add limits to the plots so that only trips of duration less than 75 minutes are plotted. As a bonus, set the plots up so that bars are in five-minute wide intervals. For each group, where is the peak of each distribution? How would you describe the shape of each distribution?\n",
    "\n",
    "**Answer**: In the following cell, data from NYC is plotted for both Customers and Subscribers into a single graph for better overview. Some observations:\n",
    "- The distribution for customers and subscribers seemed to follow normal (aka Gaussian) distribution cruve. But right-skewed considering 75 minutes upper range cap.\n",
    "- The peak for Subscribers is less than 10 minutes. Less than average trip length of 15.81 minutes of all users. (see answer 4b)\n",
    "- The peak for Customers however is ~20 minutes. Higher than average trip length of 15.81 minutes for NYC.\n",
    "\n",
    "**Reasoning:**\n",
    "- one of the reason behind peak of Subscribers' at less than 10 minutes could be that, long term users usually use bikes as a primary mean of short distance commute. E.g. going to work, gym or super market. Such distances are well defined and often follows a starndard (and optimum) routes.\n",
    "- for customer's or ad-hoc users, such as tourists or students, the bikes are used for longer routes and often unplanned or not as optimum as of the other user group."
   ]
  },
  {
   "cell_type": "code",
   "execution_count": 14,
   "metadata": {},
   "outputs": [
    {
     "data": {
      "image/png": "[encoded data removed]",
      "text/plain": [
       "<matplotlib.figure.Figure at 0x170909e8ac8>"
      ]
     },
     "metadata": {},
     "output_type": "display_data"
    }
   ],
   "source": [
    "durations_sub = []\n",
    "durations_cust = []\n",
    "infile_csv = './data/NYC-2016-Summary.csv'\n",
    "# recalling stats from 4\n",
    "avg_ride_time, proportion_gt_30mins = trip_length_stat(infile_csv)\n",
    "\n",
    "# read from input file\n",
    "with open(infile_csv, 'r') as f_in:\n",
    "    filereader = csv.DictReader(f_in)\n",
    "    for row in filereader:\n",
    "        if float(row['duration']) > 2: # rides shorter than 2 minutes are not taking into account for both user groups\n",
    "            if row['user_type'] == 'Subscriber':\n",
    "                durations_sub.append(float(row['duration']))\n",
    "            else:\n",
    "                durations_cust.append(float(row['duration']))\n",
    "\n",
    "bins = [i for i in range(0,80,5)]\n",
    "# adding range to histogram\n",
    "plt.hist(durations_sub, bins,range=(0,75), label='Subscribers', edgecolor='k')\n",
    "plt.hist(durations_cust, bins, range=(0,75), label='Customers', edgecolor='k')\n",
    "plt.title('Distribution of Trip Duration of Subscribers and Customers in NYC', fontsize=16)\n",
    "plt.xlabel('Duration (min)', fontsize=14)\n",
    "plt.ylabel('Users', fontsize=14)\n",
    "plt.xticks(fontsize=12)  \n",
    "plt.yticks(fontsize=12)\n",
    "# adds red dotted line indicating mean\n",
    "plt.axvline(avg_ride_time, color='r', linestyle='dashed', linewidth=2, label='Mean Ride Time')\n",
    "plt.legend()\n",
    "plt.show()\n",
    "\n"
   ]
  },
  {
   "cell_type": "markdown",
   "metadata": {
    "collapsed": true
   },
   "source": [
    "<a id='eda_continued'></a>\n",
    "## Performing Your Own Analysis\n",
    "\n",
    "So far, you've performed an initial exploration into the data available. You have compared the relative volume of trips made between three U.S. cities and the ratio of trips made by Subscribers and Customers. For one of these cities, you have investigated differences between Subscribers and Customers in terms of how long a typical trip lasts. Now it is your turn to continue the exploration in a direction that you choose. Here are a few suggestions for questions to explore:\n",
    "\n",
    "- How does ridership differ by month or season? Which month / season has the highest ridership? Does the ratio of Subscriber trips to Customer trips change depending on the month or season?\n",
    "- Is the pattern of ridership different on the weekends versus weekdays? On what days are Subscribers most likely to use the system? What about Customers? Does the average duration of rides change depending on the day of the week?\n",
    "- During what time of day is the system used the most? Is there a difference in usage patterns for Subscribers and Customers?\n",
    "\n",
    "If any of the questions you posed in your answer to question 1 align with the bullet points above, this is a good opportunity to investigate one of them. As part of your investigation, you will need to create a visualization. If you want to create something other than a histogram, then you might want to consult the [Pyplot documentation](https://matplotlib.org/devdocs/api/pyplot_summary.html). In particular, if you are plotting values across a categorical variable (e.g. city, user type), a bar chart will be useful. The [documentation page for `.bar()`](https://matplotlib.org/devdocs/api/_as_gen/matplotlib.pyplot.bar.html#matplotlib.pyplot.bar) includes links at the bottom of the page with examples for you to build off of for your own use.\n",
    "\n",
    "**Question 6**: Continue the investigation by exploring another question that could be answered by the data available. Document the question you want to explore below. Your investigation should involve at least two variables and should compare at least two groups. You should also use at least one visualization as part of your explorations.\n",
    "\n",
    "**Answer**: The following two cells contain exploration of monthly and weekly ridership in NYC respectively:  \n",
    "**_Monthly_**:\n",
    "+ Monthly total ridership closely follows normal distribution\n",
    "+ Subscribers amount to greater contributor to rides.\n",
    "+ Change in seasons amounts great variation in both user groups as well as total rides\n",
    "+ Winter months sees less rides in general\n",
    "+ As the summer months approaches Customers' share increases too\n",
    "+ However, in July, the share of Subscribers is less compared to neighbouring months! Perhaps the locals go on vacation while city is flooded with tourists on bikes!!\n",
    "\n",
    "**_Weekly_**:\n",
    "+ Rides on weekly bases shows expected trends\n",
    "+ Weekdays sees bigger share of rides as compared to weekends\n",
    "+ However, the proportion of Customers using bikes on weekends is higher compared to Subscribers."
   ]
  },
  {
   "cell_type": "code",
   "execution_count": 15,
   "metadata": {},
   "outputs": [
    {
     "data": {
      "image/png": "[encoded data removed]",
      "text/plain": [
       "<matplotlib.figure.Figure at 0x170922a8550>"
      ]
     },
     "metadata": {},
     "output_type": "display_data"
    }
   ],
   "source": [
    "## Monthly distribution of riders in NYC\n",
    "\n",
    "import calendar\n",
    "import datetime\n",
    "\n",
    "infile_csv = './data/NYC-2016-Summary.csv'\n",
    "\n",
    "def read_from_csv(input_csvfile, duration=False, month=False, hour=False, day_of_week=False):\n",
    "    \"\"\"\n",
    "    Function to create flexible stats for any column of the input csv file\n",
    "    \n",
    "    param: input --> csv file, column name: bool\n",
    "    param: output --> tuple of lists containing \n",
    "                        1. all the values for desired column\n",
    "                        2. all subscribers for desired column\n",
    "                        3. all customers for desired column\n",
    "    \"\"\"\n",
    "    # assign columns name\n",
    "    if duration==True:\n",
    "        col_name='duration'\n",
    "    elif month==True:\n",
    "        col_name='month'\n",
    "    elif hour==True:\n",
    "        col_name='hour'\n",
    "    elif day_of_week==True:\n",
    "        col_name='day_of_week'\n",
    "    \n",
    "    # init lists for output\n",
    "    n_ridership4column = []\n",
    "    n_ridership_sub = []\n",
    "    n_ridership_cust = []\n",
    "    \n",
    "    with open(infile_csv, 'r') as f_in:\n",
    "        filereader = csv.DictReader(f_in)\n",
    "        for row in filereader:\n",
    "            n_ridership4column.append(row[col_name])\n",
    "            if row['user_type'] == 'Subscriber':\n",
    "                n_ridership_sub.append(row[col_name])\n",
    "            else:\n",
    "                n_ridership_cust.append(row[col_name])\n",
    "            \n",
    "    return n_ridership4column, n_ridership_sub, n_ridership_cust\n",
    "\n",
    "# using function above to get monthly ridership\n",
    "monthwise = list(map(int, read_from_csv(infile_csv, month=True)[0]))\n",
    "monthwise_sub = list(map(int, read_from_csv(infile_csv, month=True)[1]))\n",
    "monthwise_cust = list(map(int, read_from_csv(infile_csv, month=True)[2]))\n",
    "\n",
    "# plotting begins\n",
    "## NOTE: Part of this solution was inspired by https://stackoverflow.com/questions/43283586/how-do-i-plot-a-histogram-of-months-with-dates-in-matplotlib\n",
    "fig, ax = plt.subplots()\n",
    "bins = [i for i in range(1,14)] # upper bound is 14 to accomodate bin for december\n",
    "\n",
    "# Plotting monthly total along with customers and subscribers stacked\n",
    "ax.hist(monthwise, bins=bins, edgecolor='k', align='left', label='Total Ridership', stacked= True)\n",
    "ax.hist(monthwise_sub, bins=bins, edgecolor='k', align='left', label='Subscribers', stacked=True)\n",
    "ax.hist(monthwise_cust, bins=bins, edgecolor='k', align='left', label='Customer', stacked=True)\n",
    "\n",
    "ax.set_xticks(bins[:-1])\n",
    "ax.set_xticklabels(list(calendar.month_abbr[i] for i in bins[:-1]))\n",
    "## Below is an alternative that works too! but not so pretty workaround\n",
    "# ax.set_xticklabels([datetime.date(1900,i,1).strftime('%b') for i in bins[:-1]]) \n",
    "\n",
    "plt.title('Monthly Ridership in NYC', fontsize=16)\n",
    "plt.xlabel('Monthly', fontsize=14)\n",
    "plt.ylabel('Rides', fontsize=14)\n",
    "plt.xticks(fontsize=12)  \n",
    "plt.yticks(fontsize=12)\n",
    "\n",
    "plt.legend()\n",
    "plt.show()\n",
    "\n"
   ]
  },
  {
   "cell_type": "code",
   "execution_count": 16,
   "metadata": {},
   "outputs": [
    {
     "data": {
      "image/png": "[encoded data removed]",
      "text/plain": [
       "<matplotlib.figure.Figure at 0x1709538fe80>"
      ]
     },
     "metadata": {},
     "output_type": "display_data"
    }
   ],
   "source": [
    "# using function above to get weekly ridership\n",
    "weekwise = read_from_csv(infile_csv, day_of_week=True)[0]\n",
    "weekwise_sub = read_from_csv(infile_csv, day_of_week=True)[1]\n",
    "weekwise_cust = read_from_csv(infile_csv, day_of_week=True)[2]\n",
    "\n",
    "# following is an ugly workaround to get days of the week on x-axis in the right order in the histogram.\n",
    "# Logic is as following: 1. Just using python and matplotlib to get intended result avoiding pandas (don't ask why!!)\n",
    "#                        2. simply by using plt.hist and the weekwise would not order the names in Mon-Sun sequence\n",
    "#                        3. From names of days, get the index and then using ax.set_ticks giving it a right order\n",
    "\n",
    "weekdays = [calendar.day_name[i] for i in range(7)]\n",
    "weekly_avg = int(sum([weekwise.count(i) for i in weekdays]) / len(weekdays))\n",
    "# print(weekly_avg)\n",
    "\n",
    "fig, ax = plt.subplots(figsize=(8,6))\n",
    "bins=[i for i in range(8)]\n",
    "\n",
    "# Plotting total weekly rides, customer and subscribers stacked\n",
    "ax.hist([weekdays.index(d) for d in weekwise],\n",
    "        bins=bins, edgecolor='k', align='left', label='Total', stacked= True)\n",
    "ax.hist([weekdays.index(d) for d in weekwise_sub], \n",
    "        bins=bins, edgecolor='k', align='left', label='Subscribers', stacked=True)\n",
    "ax.hist([weekdays.index(d) for d in weekwise_cust], \n",
    "        bins=bins, edgecolor='k', align='left', label='Customer', stacked=True)\n",
    "\n",
    "# Rename the xticks by first tagging them with bins and renaming that to Mon-Sun sequence by using weekdays list\n",
    "ax.set_xticks(bins[:-1])\n",
    "ax.set_xticklabels(list(calendar.day_abbr[i] for i in bins[:-1]))\n",
    "\n",
    "plt.title('Weekly', fontsize=16)\n",
    "plt.xlabel('Days of Week', fontsize=14)\n",
    "plt.ylabel('Rides', fontsize=14)\n",
    "plt.xticks(fontsize=12)  \n",
    "plt.yticks(fontsize=12)\n",
    "plt.axhline(weekly_avg, color='r', linestyle='dashed', linewidth=2, label='Mean')\n",
    "\n",
    "plt.legend(fontsize=12)\n",
    "plt.show()"
   ]
  },
  {
   "cell_type": "markdown",
   "metadata": {},
   "source": [
    "<a id='conclusions'></a>\n",
    "## Conclusions\n",
    "\n",
    "Congratulations on completing the project! This is only a sampling of the data analysis process: from generating questions, wrangling the data, and to exploring the data. Normally, at this point in the data analysis process, you might want to draw conclusions about the data by performing a statistical test or fitting the data to a model for making predictions. There are also a lot of potential analyses that could be performed on the data which are not possible with only the data provided. For example, detailed location data has not been investigated. Where are the most commonly used docks? What are the most common routes? As another example, weather has potential to have a large impact on daily ridership. How much is ridership impacted when there is rain or snow? Are subscribers or customers affected more by changes in weather?\n",
    "\n",
    "**Question 7**: Putting the bike share data aside, think of a topic or field of interest where you would like to be able to apply the techniques of data science. What would you like to be able to learn from your chosen subject?\n",
    "\n",
    "**Answer**: I would like to apply the techniques in geospatial field. e.g. Earth Observation and GIS data. Combined with remote sensing methods and CV, data science is a key to better object detection, crop analysis and natural disaster response."
   ]
  },
  {
   "cell_type": "code",
   "execution_count": 17,
   "metadata": {},
   "outputs": [
    {
     "data": {
      "text/plain": [
       "0"
      ]
     },
     "execution_count": 17,
     "metadata": {},
     "output_type": "execute_result"
    }
   ],
   "source": [
    "from subprocess import call\n",
    "call(['python', '-m', 'nbconvert', 'Bike_Share_Analysis.ipynb'])"
   ]
  }
 ],
 "metadata": {
  "anaconda-cloud": {},
  "kernelspec": {
   "display_name": "Python 3",
   "language": "python",
   "name": "python3"
  },
  "language_info": {
   "codemirror_mode": {
    "name": "ipython",
    "version": 3
   },
   "file_extension": ".py",
   "mimetype": "text/x-python",
   "name": "python",
   "nbconvert_exporter": "python",
   "pygments_lexer": "ipython3",
   "version": "3.6.3"
  }
 },
 "nbformat": 4,
 "nbformat_minor": 1
}
